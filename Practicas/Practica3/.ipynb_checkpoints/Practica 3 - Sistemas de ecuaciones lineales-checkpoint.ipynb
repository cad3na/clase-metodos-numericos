{
 "metadata": {
  "name": ""
 },
 "nbformat": 3,
 "nbformat_minor": 0,
 "worksheets": [
  {
   "cells": [
    {
     "cell_type": "heading",
     "level": 1,
     "metadata": {},
     "source": [
      "Sistemas de ecuaciones lineales"
     ]
    },
    {
     "cell_type": "heading",
     "level": 2,
     "metadata": {},
     "source": [
      "Como graficar?"
     ]
    },
    {
     "cell_type": "markdown",
     "metadata": {},
     "source": [
      "Tal vez lo habian pensado, pero no preguntado, o talvez ya lo buscaron por su cuenta (bien por aquellos que lo hicieron!), pero la manera mas facil de conseguir una aproximacion inicial para calcular una raiz es graficando.\n",
      "\n",
      "Resulta que en IPython es muy f\u00e1cil graficar, primero tenemos que definir nuestra funci\u00f3n a graficar, de la misma manera en que lo hemos hecho."
     ]
    },
    {
     "cell_type": "code",
     "collapsed": false,
     "input": [
      "f = lambda x: 5*x**3 + 4*x**2 + 3*x - 10"
     ],
     "language": "python",
     "metadata": {},
     "outputs": []
    },
    {
     "cell_type": "markdown",
     "metadata": {},
     "source": [
      "Despues creamos un arreglo con los valores a graficar.\n",
      "\n",
      "    x = linspace(inicio, fin, numero_de_puntos)"
     ]
    },
    {
     "cell_type": "code",
     "collapsed": false,
     "input": [
      "x = linspace(-10, 10, 1000)"
     ],
     "language": "python",
     "metadata": {},
     "outputs": []
    },
    {
     "cell_type": "markdown",
     "metadata": {},
     "source": [
      "Y despues le damos la instrucci\u00f3n de graficar.\n",
      "\n",
      "    plot(conjunto_de_puntos_de_x, conjunto_de_puntos_de_y)"
     ]
    },
    {
     "cell_type": "code",
     "collapsed": false,
     "input": [
      "plot(x, f(x))"
     ],
     "language": "python",
     "metadata": {},
     "outputs": []
    },
    {
     "cell_type": "heading",
     "level": 2,
     "metadata": {},
     "source": [
      "Matrices"
     ]
    },
    {
     "cell_type": "markdown",
     "metadata": {},
     "source": [
      "Necesitamos resolver el siguiente sistema de ecuaciones:\n",
      "\n",
      "$$\n",
      "\\begin{array}\n",
      "    3 x_1 + 4 x_2 + 10 x_3 = 5 \\\\\n",
      "    2 x_1 + 3 x_2 +  5 x_3 = 2 \\\\\n",
      "      x_1 + 5 x_2 +  2 x_3 = 10\n",
      "\\end{array}\n",
      "$$\n",
      "\n",
      "Para implementar los metodos iterativos de Jacobi y Gauss-Seidel necesitamos saber como usar las matrices en Python. Para crear una matriz tan solo tenemos que usar la funci\u00f3n\n",
      "\n",
      "    matrix(lista)\n",
      "    \n",
      "Asi pues, podemos declarar la siguiente matriz\n",
      "\n",
      "$$ A =\n",
      "\\begin{pmatrix}\n",
      "    3 & 4 & 10 \\\\\n",
      "    2 & 3 & 5 \\\\\n",
      "    1 & 5 & 2\n",
      "\\end{pmatrix}\n",
      "$$"
     ]
    },
    {
     "cell_type": "code",
     "collapsed": false,
     "input": [
      "A = matrix([[ 4.0,  1.0, 0.0, 0.0, 0.0],\n",
      "            [-8.0, -1.0, 1.0, 0.0, 0.0],\n",
      "            [ 0.0,  3.0,-2.0, 4.0, 0.0],\n",
      "            [ 0.0,  0.0, 1.0,-1.0, 1.0],\n",
      "            [ 0.0,  0.0, 0.0, 2.0, 6.0]])\n",
      "A"
     ],
     "language": "python",
     "metadata": {},
     "outputs": [
      {
       "metadata": {},
       "output_type": "pyout",
       "prompt_number": 49,
       "text": [
        "matrix([[ 4.,  1.,  0.,  0.,  0.],\n",
        "        [-8., -1.,  1.,  0.,  0.],\n",
        "        [ 0.,  3., -2.,  4.,  0.],\n",
        "        [ 0.,  0.,  1., -1.,  1.],\n",
        "        [ 0.,  0.,  0.,  2.,  6.]])"
       ]
      }
     ],
     "prompt_number": 49
    },
    {
     "cell_type": "markdown",
     "metadata": {},
     "source": [
      "Pero esto no es suficiente para resolver nuestro sistema de ecuaciones, necesitamos tambien declarar nuestro vector $b$:\n",
      "\n",
      "$$ b =\n",
      "\\begin{pmatrix}\n",
      "    5 \\\\\n",
      "    2 \\\\\n",
      "    10\n",
      "\\end{pmatrix}\n",
      "$$"
     ]
    },
    {
     "cell_type": "code",
     "collapsed": false,
     "input": [
      "b = matrix([[-1.0],\n",
      "            [13.0],\n",
      "            [-3.0],\n",
      "            [ 2.1],\n",
      "            [ 3.4]])"
     ],
     "language": "python",
     "metadata": {},
     "outputs": [],
     "prompt_number": 50
    },
    {
     "cell_type": "markdown",
     "metadata": {},
     "source": [
      "Recordando el metodo iterativo de Jacobi, si nuestro sistema de ecuaciones lineales lo escribimos como $Ax = b$, tenemos que despejar un vector $x$, de tal forma que nos quede un sistema de la forma $x = Bx - c$, para imitar el metodo de aproximaciones sucesivas.\n",
      "\n",
      "Recordemos tambien, que podemos llegar a $B$ desde la matriz $A$, dividiendo cada fila de $A$ entre el elemento de la diagonal principal de la misma fila.\n",
      "\n",
      "Con el metodo\n",
      "\n",
      "    diagonal()\n",
      "    \n",
      "podemos saber los valores de esta diagonal."
     ]
    },
    {
     "cell_type": "code",
     "collapsed": false,
     "input": [
      "diag = A.diagonal()\n",
      "diag"
     ],
     "language": "python",
     "metadata": {},
     "outputs": [
      {
       "metadata": {},
       "output_type": "pyout",
       "prompt_number": 51,
       "text": [
        "matrix([[ 4., -1., -2., -1.,  6.]])"
       ]
      }
     ],
     "prompt_number": 51
    },
    {
     "cell_type": "markdown",
     "metadata": {},
     "source": [
      "y para saber el primer elemento de esta diagonal podemos accesar a el asi:"
     ]
    },
    {
     "cell_type": "code",
     "collapsed": false,
     "input": [
      "diag[0,0]"
     ],
     "language": "python",
     "metadata": {},
     "outputs": [
      {
       "metadata": {},
       "output_type": "pyout",
       "prompt_number": 52,
       "text": [
        "4.0"
       ]
      }
     ],
     "prompt_number": 52
    },
    {
     "cell_type": "markdown",
     "metadata": {},
     "source": [
      "De la misma manera, podemos accesar a la primer fila de la matriz asi:"
     ]
    },
    {
     "cell_type": "code",
     "collapsed": false,
     "input": [
      "A[0]"
     ],
     "language": "python",
     "metadata": {},
     "outputs": [
      {
       "metadata": {},
       "output_type": "pyout",
       "prompt_number": 53,
       "text": [
        "matrix([[ 4.,  1.,  0.,  0.,  0.]])"
       ]
      }
     ],
     "prompt_number": 53
    },
    {
     "cell_type": "markdown",
     "metadata": {},
     "source": [
      "Asi pues, la primer fila entre el primer elemento de la diagonal, nos dar\u00eda la primer fila de $B$ (bueno casi, aun tenemos que quitarle el elemento de la diagonal)."
     ]
    },
    {
     "cell_type": "code",
     "collapsed": false,
     "input": [
      "A[0]/diag[0,0]"
     ],
     "language": "python",
     "metadata": {},
     "outputs": [
      {
       "metadata": {},
       "output_type": "pyout",
       "prompt_number": 54,
       "text": [
        "matrix([[ 1.  ,  0.25,  0.  ,  0.  ,  0.  ]])"
       ]
      }
     ],
     "prompt_number": 54
    },
    {
     "cell_type": "markdown",
     "metadata": {},
     "source": [
      "Y para juntar todas las filas usamos la funcion:\n",
      "\n",
      "    vstack()"
     ]
    },
    {
     "cell_type": "code",
     "collapsed": false,
     "input": [
      "vstack([A[0]/diag[0,0], A[1]/diag[0,1], A[2]/diag[0,2], A[3]/diag[0,3], A[4]/diag[0,4]])"
     ],
     "language": "python",
     "metadata": {},
     "outputs": [
      {
       "metadata": {},
       "output_type": "pyout",
       "prompt_number": 57,
       "text": [
        "matrix([[ 1.        ,  0.25      ,  0.        ,  0.        ,  0.        ],\n",
        "        [ 8.        ,  1.        , -1.        , -0.        , -0.        ],\n",
        "        [-0.        , -1.5       ,  1.        , -2.        , -0.        ],\n",
        "        [-0.        , -0.        , -1.        ,  1.        , -1.        ],\n",
        "        [ 0.        ,  0.        ,  0.        ,  0.33333333,  1.        ]])"
       ]
      }
     ],
     "prompt_number": 57
    },
    {
     "cell_type": "markdown",
     "metadata": {},
     "source": [
      "Si te fijas, todos los elementos de la diagonal son $1$, por lo que para eliminar la diagonal, tan solo tenemos que restar la identidad."
     ]
    },
    {
     "cell_type": "code",
     "collapsed": false,
     "input": [
      "B = vstack([A[0]/diag[0,0], A[1]/diag[0,1], A[2]/diag[0,2], A[3]/diag[0,3], A[4]/diag[0,4]]) - identity(5)\n",
      "B"
     ],
     "language": "python",
     "metadata": {},
     "outputs": [
      {
       "metadata": {},
       "output_type": "pyout",
       "prompt_number": 59,
       "text": [
        "matrix([[ 0.        ,  0.25      ,  0.        ,  0.        ,  0.        ],\n",
        "        [ 8.        ,  0.        , -1.        , -0.        , -0.        ],\n",
        "        [-0.        , -1.5       ,  0.        , -2.        , -0.        ],\n",
        "        [-0.        , -0.        , -1.        ,  0.        , -1.        ],\n",
        "        [ 0.        ,  0.        ,  0.        ,  0.33333333,  0.        ]])"
       ]
      }
     ],
     "prompt_number": 59
    },
    {
     "cell_type": "markdown",
     "metadata": {},
     "source": [
      "Y ahora si tenemos nuestra matriz $B$, ahora solo tenemos que dividir el vector $b$ entre los elementos de la diagonal."
     ]
    },
    {
     "cell_type": "code",
     "collapsed": false,
     "input": [
      "c = vstack([b[0]/diag[0,0], b[1]/diag[0,1], b[2]/diag[0,2], b[3]/diag[0,3], b[4]/diag[0,4]])\n",
      "c"
     ],
     "language": "python",
     "metadata": {},
     "outputs": [
      {
       "metadata": {},
       "output_type": "pyout",
       "prompt_number": 60,
       "text": [
        "matrix([[ -0.25      ],\n",
        "        [-13.        ],\n",
        "        [  1.5       ],\n",
        "        [ -2.1       ],\n",
        "        [  0.56666667]])"
       ]
      }
     ],
     "prompt_number": 60
    },
    {
     "cell_type": "markdown",
     "metadata": {},
     "source": [
      "Ahora podemos empezar a iterar. La formula que tenemos que implementar es la siguiente\n",
      "\n",
      "$$\n",
      "    x_1 = B x_0 - c\n",
      "$$\n",
      "\n",
      "Si tomamos en cuenta que nuestra aproximaci\u00f3n inicial va a ser\n",
      "\n",
      "$$ x_0 = \n",
      "\\begin{pmatrix}\n",
      "    0 \\\\\n",
      "    0 \\\\\n",
      "    0 \\\\\n",
      "\\end{pmatrix}\n",
      "$$\n",
      "\n",
      "podemos declarar este vector y empezar con la primera iteraci\u00f3n."
     ]
    },
    {
     "cell_type": "code",
     "collapsed": false,
     "input": [
      "x0 = matrix([[0],\n",
      "             [0],\n",
      "             [0],\n",
      "             [0],\n",
      "             [0]])\n",
      "x1 = B*x0 - c\n",
      "x1"
     ],
     "language": "python",
     "metadata": {},
     "outputs": [
      {
       "metadata": {},
       "output_type": "pyout",
       "prompt_number": 62,
       "text": [
        "matrix([[  0.25      ],\n",
        "        [ 13.        ],\n",
        "        [ -1.5       ],\n",
        "        [  2.1       ],\n",
        "        [ -0.56666667]])"
       ]
      }
     ],
     "prompt_number": 62
    },
    {
     "cell_type": "markdown",
     "metadata": {},
     "source": [
      "Y volver a iterar:"
     ]
    },
    {
     "cell_type": "code",
     "collapsed": false,
     "input": [
      "x2 = B*x1 - c\n",
      "x2"
     ],
     "language": "python",
     "metadata": {},
     "outputs": [
      {
       "metadata": {},
       "output_type": "pyout",
       "prompt_number": 63,
       "text": [
        "matrix([[  3.5       ],\n",
        "        [ 16.5       ],\n",
        "        [-25.2       ],\n",
        "        [  4.16666667],\n",
        "        [  0.13333333]])"
       ]
      }
     ],
     "prompt_number": 63
    },
    {
     "cell_type": "code",
     "collapsed": false,
     "input": [
      "x3 = B*x2 - c\n",
      "x3"
     ],
     "language": "python",
     "metadata": {},
     "outputs": [
      {
       "metadata": {},
       "output_type": "pyout",
       "prompt_number": 64,
       "text": [
        "matrix([[  4.375     ],\n",
        "        [ 66.2       ],\n",
        "        [-34.58333333],\n",
        "        [ 27.16666667],\n",
        "        [  0.82222222]])"
       ]
      }
     ],
     "prompt_number": 64
    },
    {
     "cell_type": "code",
     "collapsed": false,
     "input": [
      "x4 = B*x3 - c\n",
      "x4"
     ],
     "language": "python",
     "metadata": {},
     "outputs": [
      {
       "metadata": {},
       "output_type": "pyout",
       "prompt_number": 65,
       "text": [
        "matrix([[  16.8       ],\n",
        "        [  82.58333333],\n",
        "        [-155.13333333],\n",
        "        [  35.86111111],\n",
        "        [   8.48888889]])"
       ]
      }
     ],
     "prompt_number": 65
    },
    {
     "cell_type": "code",
     "collapsed": false,
     "input": [
      "x5 = B*x4 - c\n",
      "x5"
     ],
     "language": "python",
     "metadata": {},
     "outputs": [
      {
       "metadata": {},
       "output_type": "pyout",
       "prompt_number": 68,
       "text": [
        "matrix([[  20.89583333],\n",
        "        [ 302.53333333],\n",
        "        [-197.09722222],\n",
        "        [ 148.74444444],\n",
        "        [  11.38703704]])"
       ]
      }
     ],
     "prompt_number": 68
    },
    {
     "cell_type": "heading",
     "level": 2,
     "metadata": {},
     "source": [
      "Ejercicio"
     ]
    },
    {
     "cell_type": "markdown",
     "metadata": {},
     "source": [
      "1. Implementa el m\u00e9todo de Newton-Raphson.\n",
      "2. Encuentra las raices del polinomio $f(x) = 2 x^3 + 5 x^2 + 8 x - 20$"
     ]
    },
    {
     "cell_type": "code",
     "collapsed": false,
     "input": [
      "A.I*b"
     ],
     "language": "python",
     "metadata": {},
     "outputs": [
      {
       "metadata": {},
       "output_type": "pyout",
       "prompt_number": 66,
       "text": [
        "matrix([[  0.925],\n",
        "        [ -4.7  ],\n",
        "        [ 15.7  ],\n",
        "        [ 10.625],\n",
        "        [ -2.975]])"
       ]
      }
     ],
     "prompt_number": 66
    },
    {
     "cell_type": "code",
     "collapsed": false,
     "input": [],
     "language": "python",
     "metadata": {},
     "outputs": []
    }
   ],
   "metadata": {}
  }
 ]
}