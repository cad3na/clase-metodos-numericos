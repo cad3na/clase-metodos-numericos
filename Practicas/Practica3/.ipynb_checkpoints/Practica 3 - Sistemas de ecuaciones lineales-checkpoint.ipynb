{
 "metadata": {
  "name": ""
 },
 "nbformat": 3,
 "nbformat_minor": 0,
 "worksheets": [
  {
   "cells": [
    {
     "cell_type": "heading",
     "level": 1,
     "metadata": {},
     "source": [
      "Sistemas de ecuaciones lineales"
     ]
    },
    {
     "cell_type": "heading",
     "level": 2,
     "metadata": {},
     "source": [
      "Como graficar?"
     ]
    },
    {
     "cell_type": "markdown",
     "metadata": {},
     "source": [
      "Tal vez lo habian pensado, pero no preguntado, o talvez ya lo buscaron por su cuenta (bien por aquellos que lo hicieron!), pero la manera mas facil de conseguir una aproximacion inicial para calcular una raiz es graficando.\n",
      "\n",
      "Resulta que en IPython es muy f\u00e1cil graficar, primero tenemos que definir nuestra funci\u00f3n a graficar, de la misma manera en que lo hemos hecho."
     ]
    },
    {
     "cell_type": "code",
     "collapsed": false,
     "input": [
      "f = lambda x: 5*x**3 + 4*x**2 + 3*x - 10"
     ],
     "language": "python",
     "metadata": {},
     "outputs": []
    },
    {
     "cell_type": "markdown",
     "metadata": {},
     "source": [
      "Despues creamos un arreglo con los valores a graficar.\n",
      "\n",
      "    x = linspace(inicio, fin, numero_de_puntos)"
     ]
    },
    {
     "cell_type": "code",
     "collapsed": false,
     "input": [
      "x = linspace(-10, 10, 1000)"
     ],
     "language": "python",
     "metadata": {},
     "outputs": []
    },
    {
     "cell_type": "markdown",
     "metadata": {},
     "source": [
      "Y despues le damos la instrucci\u00f3n de graficar.\n",
      "\n",
      "    plot(conjunto_de_puntos_de_x, conjunto_de_puntos_de_y)"
     ]
    },
    {
     "cell_type": "code",
     "collapsed": false,
     "input": [
      "plot(x, f(x))"
     ],
     "language": "python",
     "metadata": {},
     "outputs": []
    },
    {
     "cell_type": "heading",
     "level": 2,
     "metadata": {},
     "source": [
      "Matrices"
     ]
    },
    {
     "cell_type": "markdown",
     "metadata": {},
     "source": [
      "Necesitamos resolver el siguiente sistema de ecuaciones:\n",
      "\n",
      "$$\n",
      "\\begin{array}\n",
      "    3 x_1 + 4 x_2 + 10 x_3 = 5 \\\\\n",
      "    2 x_1 + 3 x_2 +  5 x_3 = 2 \\\\\n",
      "      x_1 + 5 x_2 +  2 x_3 = 10\n",
      "\\end{array}\n",
      "$$\n",
      "\n",
      "Para implementar los metodos iterativos de Jacobi y Gauss-Seidel necesitamos saber como usar las matrices en Python. Para crear una matriz tan solo tenemos que usar la funci\u00f3n\n",
      "\n",
      "    matrix(lista)\n",
      "    \n",
      "Asi pues, podemos declarar la siguiente matriz\n",
      "\n",
      "$$ A =\n",
      "\\begin{pmatrix}\n",
      "    3 & 4 & 10 \\\\\n",
      "    2 & 3 & 5 \\\\\n",
      "    1 & 5 & 2\n",
      "\\end{pmatrix}\n",
      "$$"
     ]
    },
    {
     "cell_type": "code",
     "collapsed": false,
     "input": [
      "A = matrix([[ 4.0, -1.0,  0.0,  0.0],\n",
      "            [-1.0,  4.0, -1.0,  0.0],\n",
      "            [ 0.0, -1.0,  4.0, -1.0],\n",
      "            [ 0.0,  0.0, -1.0,  4.0]])\n",
      "A"
     ],
     "language": "python",
     "metadata": {},
     "outputs": []
    },
    {
     "cell_type": "markdown",
     "metadata": {},
     "source": [
      "Pero esto no es suficiente para resolver nuestro sistema de ecuaciones, necesitamos tambien declarar nuestro vector $b$:\n",
      "\n",
      "$$ b =\n",
      "\\begin{pmatrix}\n",
      "    5 \\\\\n",
      "    2 \\\\\n",
      "    10\n",
      "\\end{pmatrix}\n",
      "$$"
     ]
    },
    {
     "cell_type": "code",
     "collapsed": false,
     "input": [
      "b = matrix([[1.0],\n",
      "            [1.0],\n",
      "            [1.0],\n",
      "            [1.0]])\n",
      "b"
     ],
     "language": "python",
     "metadata": {},
     "outputs": []
    },
    {
     "cell_type": "markdown",
     "metadata": {},
     "source": [
      "Recordando el metodo iterativo de Jacobi, si nuestro sistema de ecuaciones lineales lo escribimos como $Ax = b$, tenemos que despejar un vector $x$, de tal forma que nos quede un sistema de la forma $x = Bx - c$, para imitar el metodo de aproximaciones sucesivas.\n",
      "\n",
      "Recordemos tambien, que podemos llegar a $B$ desde la matriz $A$, dividiendo cada fila de $A$ entre el elemento de la diagonal principal de la misma fila.\n",
      "\n",
      "Con el metodo\n",
      "\n",
      "    diagonal()\n",
      "    \n",
      "podemos saber los valores de esta diagonal."
     ]
    },
    {
     "cell_type": "code",
     "collapsed": false,
     "input": [
      "diag = A.diagonal()\n",
      "diag"
     ],
     "language": "python",
     "metadata": {},
     "outputs": []
    },
    {
     "cell_type": "markdown",
     "metadata": {},
     "source": [
      "y para saber el primer elemento de esta diagonal podemos accesar a el asi:"
     ]
    },
    {
     "cell_type": "code",
     "collapsed": false,
     "input": [
      "diag[0,0]"
     ],
     "language": "python",
     "metadata": {},
     "outputs": []
    },
    {
     "cell_type": "markdown",
     "metadata": {},
     "source": [
      "De la misma manera, podemos accesar a la primer fila de la matriz asi:"
     ]
    },
    {
     "cell_type": "code",
     "collapsed": false,
     "input": [
      "A[0]"
     ],
     "language": "python",
     "metadata": {},
     "outputs": []
    },
    {
     "cell_type": "markdown",
     "metadata": {},
     "source": [
      "Asi pues, la primer fila entre el primer elemento de la diagonal, nos dar\u00eda la primer fila de $B$ (bueno casi, aun tenemos que quitarle el elemento de la diagonal)."
     ]
    },
    {
     "cell_type": "code",
     "collapsed": false,
     "input": [
      "A[0]/diag[0,0]"
     ],
     "language": "python",
     "metadata": {},
     "outputs": []
    },
    {
     "cell_type": "markdown",
     "metadata": {},
     "source": [
      "Y para juntar todas las filas usamos la funcion:\n",
      "\n",
      "    vstack()"
     ]
    },
    {
     "cell_type": "code",
     "collapsed": false,
     "input": [
      "vstack([A[0]/diag[0,0], A[1]/diag[0,1], A[2]/diag[0,2], A[3]/diag[0,3]])"
     ],
     "language": "python",
     "metadata": {},
     "outputs": []
    },
    {
     "cell_type": "markdown",
     "metadata": {},
     "source": [
      "Si te fijas, todos los elementos de la diagonal son $1$, por lo que para eliminar la diagonal, tan solo tenemos que restar la identidad."
     ]
    },
    {
     "cell_type": "code",
     "collapsed": false,
     "input": [
      "B = vstack([A[0]/diag[0,0], A[1]/diag[0,1], A[2]/diag[0,2], A[3]/diag[0,3]]) - identity(4)\n",
      "B"
     ],
     "language": "python",
     "metadata": {},
     "outputs": []
    },
    {
     "cell_type": "markdown",
     "metadata": {},
     "source": [
      "Pero esto es demasiado manual, lo podemos hacer en un ciclo. El siguiente codigo es un poco dificil de leer, pero realmente lo unico que estoy haciendo es convertir la matriz en una lista, e iterando cada una de las filas."
     ]
    },
    {
     "cell_type": "code",
     "collapsed": false,
     "input": [
      "temp = []\n",
      "n = A.shape[0]\n",
      "\n",
      "for i in range(n):\n",
      "    temp.append(A[i]/A[i, i])\n",
      "    \n",
      "B = vstack(temp) - identity(n)\n",
      "B"
     ],
     "language": "python",
     "metadata": {},
     "outputs": []
    },
    {
     "cell_type": "markdown",
     "metadata": {},
     "source": [
      "Y ahora si tenemos nuestra matriz $B$, ahora solo tenemos que dividir el vector $b$ entre los elementos de la diagonal."
     ]
    },
    {
     "cell_type": "code",
     "collapsed": false,
     "input": [
      "c = vstack([b[0]/diag[0,0], b[1]/diag[0,1], b[2]/diag[0,2], b[3]/diag[0,3]])\n",
      "c"
     ],
     "language": "python",
     "metadata": {},
     "outputs": []
    },
    {
     "cell_type": "markdown",
     "metadata": {},
     "source": [
      "De manera similar, tambien podemos automatizar estas partes:"
     ]
    },
    {
     "cell_type": "code",
     "collapsed": false,
     "input": [
      "temp = []\n",
      "n = c.shape[0]\n",
      "\n",
      "for i in range(n):\n",
      "    temp.append(b[i]/A[i, i])\n",
      "    \n",
      "c = vstack(temp)\n",
      "c"
     ],
     "language": "python",
     "metadata": {},
     "outputs": []
    },
    {
     "cell_type": "markdown",
     "metadata": {},
     "source": [
      "Ahora podemos empezar a iterar. La formula que tenemos que implementar es la siguiente\n",
      "\n",
      "$$\n",
      "    x_1 = B x_0 - c\n",
      "$$\n",
      "\n",
      "Si tomamos en cuenta que nuestra aproximaci\u00f3n inicial va a ser\n",
      "\n",
      "$$ x_0 = \n",
      "\\begin{pmatrix}\n",
      "    0 \\\\\n",
      "    0 \\\\\n",
      "    0 \\\\\n",
      "\\end{pmatrix}\n",
      "$$\n",
      "\n",
      "podemos declarar este vector y empezar con la primera iteraci\u00f3n."
     ]
    },
    {
     "cell_type": "code",
     "collapsed": false,
     "input": [
      "x0 = matrix([[0],\n",
      "             [0],\n",
      "             [0],\n",
      "             [0]])\n",
      "x1 = B*x0 - c\n",
      "x1"
     ],
     "language": "python",
     "metadata": {},
     "outputs": []
    },
    {
     "cell_type": "markdown",
     "metadata": {},
     "source": [
      "Y volver a iterar:"
     ]
    },
    {
     "cell_type": "code",
     "collapsed": false,
     "input": [
      "x2 = B*x1 - c\n",
      "x2"
     ],
     "language": "python",
     "metadata": {},
     "outputs": []
    },
    {
     "cell_type": "code",
     "collapsed": false,
     "input": [
      "x3 = B*x2 - c\n",
      "x3"
     ],
     "language": "python",
     "metadata": {},
     "outputs": []
    },
    {
     "cell_type": "code",
     "collapsed": false,
     "input": [
      "x4 = B*x3 - c\n",
      "x4"
     ],
     "language": "python",
     "metadata": {},
     "outputs": []
    },
    {
     "cell_type": "code",
     "collapsed": false,
     "input": [
      "x5 = B*x4 - c\n",
      "x5"
     ],
     "language": "python",
     "metadata": {},
     "outputs": []
    },
    {
     "cell_type": "markdown",
     "metadata": {},
     "source": [
      "Si calculamos el error, obtendremos:"
     ]
    },
    {
     "cell_type": "code",
     "collapsed": false,
     "input": [
      "e = x5 - x4\n",
      "abs(e.mean())"
     ],
     "language": "python",
     "metadata": {},
     "outputs": []
    },
    {
     "cell_type": "code",
     "collapsed": false,
     "input": [
      "x0 = matrix(zeros((n,1)))\n",
      "x0"
     ],
     "language": "python",
     "metadata": {},
     "outputs": []
    },
    {
     "cell_type": "code",
     "collapsed": false,
     "input": [
      "xs = []\n",
      "x0 = matrix(zeros((n,1)))\n",
      "xs.append(x0)\n",
      "xs.append(B*xs[-1]-c)\n",
      "abs((xs[-2]-xs[-1]).mean())"
     ],
     "language": "python",
     "metadata": {},
     "outputs": []
    },
    {
     "cell_type": "markdown",
     "metadata": {},
     "source": [
      "Y de nuevo, para implementar el metodo completamente, lo metemos en una funci\u00f3n. Necesitamos que la funci\u00f3n acepte como argumentos la matriz $A$, el vector $b$ y el error $\\varepsilon$. Con esto calcule $B$ y $c$ y revise el error para saber cuando dejar de iterar."
     ]
    },
    {
     "cell_type": "code",
     "collapsed": false,
     "input": [
      "def metodo_jacobi(A, b, error):\n",
      "    '''\n",
      "    Esta funci\u00f3n acepta una matriz A y un vector b, correspondientes a un sistema\n",
      "    de ecuaciones lineales y un error, para calcular la soluci\u00f3n por el m\u00e9todo \n",
      "    iterativo de Jacobi.\n",
      "    \n",
      "    Uso:\n",
      "    \n",
      "    >>> A = matrix([[ 4.0, -1.0,  0.0,  0.0],\n",
      "    ...             [-1.0,  4.0, -1.0,  0.0],\n",
      "    ...             [ 0.0, -1.0,  4.0, -1.0],\n",
      "    ...             [ 0.0,  0.0, -1.0,  4.0]])\n",
      "    >>> b = matrix([[1.0],\n",
      "    ...             [1.0],\n",
      "    ...             [1.0],\n",
      "    ...             [1.0]])\n",
      "    >>> metodo_jacobi(A, b, 0.001)\n",
      "    matrix([[-0.21043396],\n",
      "            [-0.15774536],\n",
      "            [-0.15774536],\n",
      "            [-0.21043396]])\n",
      "    '''\n",
      "    # Creamos un arreglo vacio y calculamos el tama\u00f1o del arreglo\n",
      "    temp = []\n",
      "    n = A.shape[0]\n",
      "    \n",
      "    # Iteramos atraves de las filas para dividir por el elemento en la diagonal\n",
      "    for i in range(n):\n",
      "        temp.append(A[i]/A[i, i])\n",
      "        \n",
      "    # Guardamos el arreglo temporal en B al mismo tiempo que le quitamos la diagonal\n",
      "    B = vstack(temp) - identity(n)\n",
      "    \n",
      "    # Vaciamos el arreglo temporal\n",
      "    temp = []\n",
      "    \n",
      "    # Iteramos atraves de las filas de nuestro vector para dividir por el elemento de la diagonal\n",
      "    for i in range(n):\n",
      "        temp.append(b[i]/A[i, i])\n",
      "        \n",
      "    # Guardamos el arreglo temporal en c\n",
      "    c = vstack(temp)\n",
      "    \n",
      "    # Creamos un vector vacio donde guardaremos todas nuestras iteraciones, el vector de aproximaci\u00f3n\n",
      "    # inicial y lo guardamos dentro del vector de aproximaciones\n",
      "    xs = []\n",
      "    x0 = matrix(zeros((n, 1)))\n",
      "    xs.append(x0)\n",
      "    \n",
      "    # Iteramos hasta que el error calculado sea menor al requerido\n",
      "    while True:\n",
      "        xs.append(B*xs[-1] - c)\n",
      "        e = abs((xs[-2]-xs[-1]).mean())\n",
      "        if e < error:\n",
      "            break\n",
      "            \n",
      "    # La funci\u00f3n regresa la ultima aproximaci\u00f3n disponible\n",
      "    return xs[-1]"
     ],
     "language": "python",
     "metadata": {},
     "outputs": []
    },
    {
     "cell_type": "markdown",
     "metadata": {},
     "source": [
      "Ahora podemos mandar a llamar a nuestra funci\u00f3n metodo_jacobi \u00bfPor cierto, viste las partes en rojo? Esos comentarios se les llama de documentaci\u00f3n, o docstrings. Intenta escribir el nombre de la funci\u00f3n y el primer parentesis y presionar la tecla tabulador. Es muy util cuando tienes muchas funciones que usar."
     ]
    },
    {
     "cell_type": "code",
     "collapsed": false,
     "input": [
      "A = matrix([[ 4.0, -1.0,  0.0,  0.0],\n",
      "            [-1.0,  4.0, -1.0,  0.0],\n",
      "            [ 0.0, -1.0,  4.0, -1.0],\n",
      "            [ 0.0,  0.0, -1.0,  4.0]])\n",
      "\n",
      "b = matrix([[1.0],\n",
      "            [1.0],\n",
      "            [1.0],\n",
      "            [1.0]])\n",
      "\n",
      "metodo_jacobi(A, b, 0.001)"
     ],
     "language": "python",
     "metadata": {},
     "outputs": []
    },
    {
     "cell_type": "heading",
     "level": 2,
     "metadata": {},
     "source": [
      "Ejercicio"
     ]
    },
    {
     "cell_type": "markdown",
     "metadata": {},
     "source": [
      "1. Implementa el m\u00e9todo iterativo de Gauss - Seidel"
     ]
    }
   ],
   "metadata": {}
  }
 ]
}