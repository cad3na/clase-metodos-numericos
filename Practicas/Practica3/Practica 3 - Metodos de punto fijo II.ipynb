{
 "metadata": {
  "name": ""
 },
 "nbformat": 3,
 "nbformat_minor": 0,
 "worksheets": [
  {
   "cells": [
    {
     "cell_type": "heading",
     "level": 1,
     "metadata": {},
     "source": [
      "M\u00e9todos de punto fijo II"
     ]
    },
    {
     "cell_type": "heading",
     "level": 2,
     "metadata": {},
     "source": [
      "Como graficar?"
     ]
    },
    {
     "cell_type": "markdown",
     "metadata": {},
     "source": [
      "Tal vez lo habian pensado, pero no preguntado, o talvez ya lo buscaron por su cuenta (bien por aquellos que lo hicieron!), pero la manera mas facil de conseguir una aproximacion inicial para calcular una raiz es graficando.\n",
      "\n",
      "Resulta que en IPython es muy f\u00e1cil graficar, primero tenemos que definir nuestra funci\u00f3n a graficar, de la misma manera en que lo hemos hecho."
     ]
    },
    {
     "cell_type": "code",
     "collapsed": false,
     "input": [
      "f = lambda x: 5*x**3 + 4*x**2 + 3*x - 10"
     ],
     "language": "python",
     "metadata": {},
     "outputs": []
    },
    {
     "cell_type": "markdown",
     "metadata": {},
     "source": [
      "Despues creamos un arreglo con los valores a graficar.\n",
      "\n",
      "    x = linspace(inicio, fin, numero_de_puntos)"
     ]
    },
    {
     "cell_type": "code",
     "collapsed": false,
     "input": [
      "x = linspace(-10, 10, 1000)"
     ],
     "language": "python",
     "metadata": {},
     "outputs": []
    },
    {
     "cell_type": "markdown",
     "metadata": {},
     "source": [
      "Y despues le damos la instrucci\u00f3n de graficar.\n",
      "\n",
      "    plot(conjunto_de_puntos_de_x, conjunto_de_puntos_de_y)"
     ]
    },
    {
     "cell_type": "code",
     "collapsed": false,
     "input": [
      "plot(x, f(x))"
     ],
     "language": "python",
     "metadata": {},
     "outputs": []
    },
    {
     "cell_type": "heading",
     "level": 2,
     "metadata": {},
     "source": [
      "Ejercicio"
     ]
    },
    {
     "cell_type": "markdown",
     "metadata": {},
     "source": [
      "1. Implementa el m\u00e9todo de Newton-Raphson.\n",
      "2. Encuentra las raices del polinomio $f(x) = 2 x^3 + 5 x^2 + 8 x - 20$"
     ]
    }
   ],
   "metadata": {}
  }
 ]
}