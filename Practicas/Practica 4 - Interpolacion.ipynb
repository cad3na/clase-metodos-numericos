{
 "metadata": {
  "name": ""
 },
 "nbformat": 3,
 "nbformat_minor": 0,
 "worksheets": [
  {
   "cells": [
    {
     "cell_type": "heading",
     "level": 1,
     "metadata": {},
     "source": [
      "Interpolaci\u00f3n"
     ]
    },
    {
     "cell_type": "heading",
     "level": 2,
     "metadata": {},
     "source": [
      "Ejercicio"
     ]
    },
    {
     "cell_type": "markdown",
     "metadata": {},
     "source": [
      "1. Implementa el m\u00e9todo de interpolaci\u00f3n de Lagrange. Puedes probar con puntos conocidos como $(0, 0)$, $(1, 1)$, $(2, 4)$, o con puntos al azar, como $(6, 0)$, $(7, 1)$, $(8, -2)$, $(3, 5)$."
     ]
    }
   ],
   "metadata": {}
  }
 ]
}