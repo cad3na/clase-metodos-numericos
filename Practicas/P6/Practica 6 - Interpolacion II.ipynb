{
 "cells": [
  {
   "cell_type": "markdown",
   "metadata": {},
   "source": [
    "# Mínimos cuadrados"
   ]
  },
  {
   "cell_type": "markdown",
   "metadata": {},
   "source": [
    "En esta práctica vamos a utilizar el método de mínimos cuadrados, para interpolar un conjunto de datos, en una función lineal, a continuación declaramos un conjunto de datos en arreglos de ```numpy```, para facilitarnos su manejo:"
   ]
  },
  {
   "cell_type": "code",
   "execution_count": null,
   "metadata": {
    "collapsed": true
   },
   "outputs": [],
   "source": [
    "from numpy import array, linspace"
   ]
  },
  {
   "cell_type": "code",
   "execution_count": null,
   "metadata": {
    "collapsed": true
   },
   "outputs": [],
   "source": [
    "xs = array([0, 2, 3, 6, 7])\n",
    "ys = array([0.120, 0.153, 0.170, 0.225, 0.260])"
   ]
  },
  {
   "cell_type": "markdown",
   "metadata": {},
   "source": [
    "Ahora, tan solo tenemos que obtener información de estos datos,\n",
    "* $m$ será el número de datos a interpolar\n",
    "* $\\sum{x}$ se refiere a la sumatoria de todos los valores de la variable independiente\n",
    "* $\\sum{y}$ se refiere a la sumatoria de todos los valores de la variable dependiente\n",
    "* $\\sum{x^2}$ se refiere a la sumatoria de todos los valores de la variable independiente elevados al cuadrado\n",
    "* $\\sum{xy}$ se refiere a la sumatoria de todos los valores de la variable independiente multiplicados por el valor de la variable dependiente en ese punto"
   ]
  },
  {
   "cell_type": "code",
   "execution_count": null,
   "metadata": {},
   "outputs": [],
   "source": [
    "m = len(xs)\n",
    "Σx = sum(xs)\n",
    "Σy = sum(ys)\n",
    "Σx2 = sum(xs.T*xs)\n",
    "Σxy = sum(xs.T*ys)\n",
    "\n",
    "Σx, Σy, Σx2, Σxy"
   ]
  },
  {
   "cell_type": "markdown",
   "metadata": {},
   "source": [
    "Una vez que tenemos todos estos valores, tan solo utilizamos las ecuaciones derivadas por el método de Cramer, para obtener el valor de $a_0$ y $a_1$:"
   ]
  },
  {
   "cell_type": "code",
   "execution_count": null,
   "metadata": {},
   "outputs": [],
   "source": [
    "a0 = (Σy*Σx2 - Σx*Σxy)/(m*Σx2 - Σx**2)\n",
    "a1 = (m*Σxy - Σy*Σx)/(m*Σx2 - Σx**2)"
   ]
  },
  {
   "cell_type": "markdown",
   "metadata": {},
   "source": [
    "y obtener la función de la interpolación:"
   ]
  },
  {
   "cell_type": "code",
   "execution_count": null,
   "metadata": {
    "collapsed": true
   },
   "outputs": [],
   "source": [
    "f = lambda x: a0 + a1*x"
   ]
  },
  {
   "cell_type": "markdown",
   "metadata": {},
   "source": [
    "De la misma manera que en la práctica anterior, podemos obtener un espacio lineal y gráficarlo en conjunto con los datos originales como puntos:"
   ]
  },
  {
   "cell_type": "code",
   "execution_count": null,
   "metadata": {
    "collapsed": true
   },
   "outputs": [],
   "source": [
    "x = linspace(min(xs), max(xs), 100)\n",
    "y = f(x)"
   ]
  },
  {
   "cell_type": "code",
   "execution_count": null,
   "metadata": {
    "collapsed": true
   },
   "outputs": [],
   "source": [
    "from matplotlib.pyplot import plot, figure\n",
    "%matplotlib inline"
   ]
  },
  {
   "cell_type": "code",
   "execution_count": null,
   "metadata": {},
   "outputs": [],
   "source": [
    "plot(xs, ys, \"o\")\n",
    "plot(x, y)"
   ]
  },
  {
   "cell_type": "markdown",
   "metadata": {},
   "source": [
    "> Note que los datos no estan realmente en la gráfica de la interpolación, estamos interpolando una función lineal, en un conjunto de datos que no pueden ser unidos por una sola recta; sin embargo, tenemos garantizado que el error general de esta interpolación es el mínimo."
   ]
  },
  {
   "cell_type": "markdown",
   "metadata": {},
   "source": [
    "## Problemas"
   ]
  },
  {
   "cell_type": "markdown",
   "metadata": {},
   "source": [
    "1. Obtenga una función que devuelva una función polinómica lineal de la interpolación de los datos de entrada. Utilice el método de mínimos cuadrados.\n",
    "2. Obtenga la aproximación polinomial lineal del problema 4.30 del libro de texto, ubicado en la pagina 394.\n",
    "3. Utilizando el siguiente código para importar los datos, obtenga una aproximación lineal del flujo histórico en el rio Nilo y haga una predicción para el flujo a ocurrir en el año 2018."
   ]
  },
  {
   "cell_type": "code",
   "execution_count": null,
   "metadata": {
    "collapsed": true
   },
   "outputs": [],
   "source": [
    "import json\n",
    "datos = None\n",
    "with open('datos.json') as archivo:\n",
    "     datos = json.load(archivo)\n",
    "        \n",
    "año, flujo = datos[0], datos[1]"
   ]
  }
 ],
 "metadata": {
  "kernelspec": {
   "display_name": "Python 3",
   "language": "python",
   "name": "python3"
  },
  "language_info": {
   "codemirror_mode": {
    "name": "ipython",
    "version": 3
   },
   "file_extension": ".py",
   "mimetype": "text/x-python",
   "name": "python",
   "nbconvert_exporter": "python",
   "pygments_lexer": "ipython3",
   "version": "3.6.3"
  }
 },
 "nbformat": 4,
 "nbformat_minor": 1
}
