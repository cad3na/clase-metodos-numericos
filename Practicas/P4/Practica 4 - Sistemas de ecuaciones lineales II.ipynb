{
 "cells": [
  {
   "cell_type": "markdown",
   "metadata": {},
   "source": [
    "# Método de Jacobi"
   ]
  },
  {
   "cell_type": "markdown",
   "metadata": {},
   "source": [
    "En esta ocasión exploraremos una implementación del método de Jacobi para la aproximación de solución a sistemas de ecuaciones lineales.\n",
    "\n",
    "Empecemos declarando un sistema de ecuaciones lineales en su forma matricial:"
   ]
  },
  {
   "cell_type": "code",
   "execution_count": null,
   "metadata": {
    "collapsed": true
   },
   "outputs": [],
   "source": [
    "from numpy import matrix"
   ]
  },
  {
   "cell_type": "code",
   "execution_count": null,
   "metadata": {
    "collapsed": true
   },
   "outputs": [],
   "source": [
    "A = matrix([[72,    0,  0,  9,  0,    0],\n",
    "            [ 0, 2.88,  0,  0,  0, -4.5],\n",
    "            [ 0,    0, 18,  9,  0,    0],\n",
    "            [ 9,    0,  9, 12,  0,    0],\n",
    "            [ 0,    0,  0,  0, 33,    0],\n",
    "            [ 0, -4.5,  0,  0,  0,   33]])\n",
    "\n",
    "b = matrix([[2],\n",
    "            [0.5],\n",
    "            [1],\n",
    "            [0],\n",
    "            [1.2],\n",
    "            [5]])"
   ]
  },
  {
   "cell_type": "markdown",
   "metadata": {},
   "source": [
    "Con lo que, trivialmente, podemos ver su solución por medio de la implementación mas simple:"
   ]
  },
  {
   "cell_type": "code",
   "execution_count": null,
   "metadata": {},
   "outputs": [],
   "source": [
    "A.I*b"
   ]
  },
  {
   "cell_type": "markdown",
   "metadata": {},
   "source": [
    "Sin embargo, deseamos implementar un método diferente, por lo que empezaremos obteniendo información acerca del sistema, por ejemplo, si queremos saber la dimensión de la matriz $A$, y por consecuente la dimensión del sistema, tendremos:"
   ]
  },
  {
   "cell_type": "code",
   "execution_count": null,
   "metadata": {},
   "outputs": [],
   "source": [
    "A.shape"
   ]
  },
  {
   "cell_type": "markdown",
   "metadata": {},
   "source": [
    "Ya sabemos que esta matriz es cuadrada, por lo que podemos obtener el primer elemento solamente con:"
   ]
  },
  {
   "cell_type": "code",
   "execution_count": null,
   "metadata": {},
   "outputs": [],
   "source": [
    "A.shape[0]"
   ]
  },
  {
   "cell_type": "markdown",
   "metadata": {},
   "source": [
    "Recordando el método de Jacobi, tenemos que empezar con una aproximación $0$ en todas las variables, por lo que definimos un arreglo de ceros, con la funcion ```zeros```, y lo convertimos en un objeto de tipo ```matrix```:"
   ]
  },
  {
   "cell_type": "code",
   "execution_count": null,
   "metadata": {
    "collapsed": true
   },
   "outputs": [],
   "source": [
    "from numpy import zeros, copy"
   ]
  },
  {
   "cell_type": "code",
   "execution_count": null,
   "metadata": {},
   "outputs": [],
   "source": [
    "x0 = matrix(zeros(A.shape[0])).T\n",
    "x0"
   ]
  },
  {
   "cell_type": "markdown",
   "metadata": {},
   "source": [
    "Lo siguiente que voy a necesitar es un arreglo con todos los elementos de la diagonal principal, para dividir cada una de las formulas de la aproximación con estos elementos:"
   ]
  },
  {
   "cell_type": "code",
   "execution_count": null,
   "metadata": {},
   "outputs": [],
   "source": [
    "A.diagonal()"
   ]
  },
  {
   "cell_type": "code",
   "execution_count": null,
   "metadata": {},
   "outputs": [],
   "source": [
    "divisores = copy(A.diagonal().T)\n",
    "divisores"
   ]
  },
  {
   "cell_type": "markdown",
   "metadata": {},
   "source": [
    "Una vez que obtengo la diagonal, voy a sustituir todos los elementos de esta por $0$, de manera que cuando multiplique cada una de las filas de esta matriz, por el valor de la aproximación de $x$, $x_0$, obtendré la mayoría de los elementos de cada una de las formulas:\n",
    "\n",
    "$$\n",
    "0 x_1 + a_{12}x_2 + a_{13}x_3+\\ldots+a_{1n}x_n\n",
    "$$"
   ]
  },
  {
   "cell_type": "code",
   "execution_count": null,
   "metadata": {
    "collapsed": true
   },
   "outputs": [],
   "source": [
    "from numpy import fill_diagonal"
   ]
  },
  {
   "cell_type": "code",
   "execution_count": null,
   "metadata": {},
   "outputs": [],
   "source": [
    "fill_diagonal(A, 0)"
   ]
  },
  {
   "cell_type": "code",
   "execution_count": null,
   "metadata": {},
   "outputs": [],
   "source": [
    "A"
   ]
  },
  {
   "cell_type": "code",
   "execution_count": null,
   "metadata": {},
   "outputs": [],
   "source": [
    "-A*x0"
   ]
  },
  {
   "cell_type": "markdown",
   "metadata": {},
   "source": [
    "Tomando en cuenta que nuestra primera aproximación es toda $0$, este vector es completamente correcto, ahora tenemos que dividir cada uno de estos elementos por el vector diagonal:\n",
    "\n",
    "$$\n",
    "\\frac{0 x_1 + a_{12}x_2 + a_{13}x_3+\\ldots+a_{1n}x_n}{a_{11}}\n",
    "$$"
   ]
  },
  {
   "cell_type": "code",
   "execution_count": null,
   "metadata": {
    "collapsed": true
   },
   "outputs": [],
   "source": [
    "from numpy import divide"
   ]
  },
  {
   "cell_type": "code",
   "execution_count": null,
   "metadata": {},
   "outputs": [],
   "source": [
    "divide(-A*x0, divisores)"
   ]
  },
  {
   "cell_type": "markdown",
   "metadata": {},
   "source": [
    "Por ultimo tenemos que restar cada uno de estos elementos a la division del vector $b$ con la diagonal, de tal manera que tengamos:\n",
    "\n",
    "$$\n",
    "\\frac{b}{a_{11}} -\\frac{0 x_1 + a_{12}x_2 + a_{13}x_3+\\ldots+a_{1n}x_n}{a_{11}}\n",
    "$$"
   ]
  },
  {
   "cell_type": "code",
   "execution_count": null,
   "metadata": {},
   "outputs": [],
   "source": [
    "x1 = divide(b, divisores) - divide(A*x0, divisores)\n",
    "x1"
   ]
  },
  {
   "cell_type": "markdown",
   "metadata": {},
   "source": [
    "lo cual corresponde a nuestra primer aproximación, por lo que lo hemos guardado en ```x1```.\n",
    "\n",
    "Si ahora obtenemos la diferencia entre las primeras dos aproximaciones, y lo guardamos en la variable ```dif```:"
   ]
  },
  {
   "cell_type": "code",
   "execution_count": null,
   "metadata": {},
   "outputs": [],
   "source": [
    "dif = x1 - x0\n",
    "dif"
   ]
  },
  {
   "cell_type": "markdown",
   "metadata": {},
   "source": [
    "podemos obtener el cuadrado de cada una de estas diferencias con ```dif.T*dif```, es  decir:\n",
    "\n",
    "$$\n",
    "(\\bar{x}_1 - x_1)^2 + (\\bar{x}_2 - x_2)^2 + \\ldots + (\\bar{x}_n - x_n)^2 =\n",
    "\\begin{pmatrix}\n",
    "\\bar{x}_1 - x_1 &\n",
    "\\bar{x}_2 - x_2 &\n",
    "\\ldots &\n",
    "\\bar{x}_n - x_n\n",
    "\\end{pmatrix}\n",
    "\\begin{pmatrix}\n",
    "\\bar{x}_1 - x_1 \\\\\n",
    "\\bar{x}_2 - x_2 \\\\\n",
    "\\vdots \\\\\n",
    "\\bar{x}_n - x_n\n",
    "\\end{pmatrix}\n",
    "$$\n",
    "\n",
    "y a este valor, tan solo tenemos que sacarle la raiz cuadrada:"
   ]
  },
  {
   "cell_type": "code",
   "execution_count": null,
   "metadata": {
    "collapsed": true
   },
   "outputs": [],
   "source": [
    "from numpy import sqrt"
   ]
  },
  {
   "cell_type": "code",
   "execution_count": null,
   "metadata": {},
   "outputs": [],
   "source": [
    "e1 = sqrt((dif.T*dif)[0,0])\n",
    "e1"
   ]
  },
  {
   "cell_type": "markdown",
   "metadata": {},
   "source": [
    "por lo que obtenemos nuestro error inicial. Ahora tan solo tenemos que seguir haciendo iteraciones hasta obtener una buena aproximación:"
   ]
  },
  {
   "cell_type": "code",
   "execution_count": null,
   "metadata": {},
   "outputs": [],
   "source": [
    "x2 = divide(b, divisores) - divide(A*x1, divisores)\n",
    "x2"
   ]
  },
  {
   "cell_type": "code",
   "execution_count": null,
   "metadata": {},
   "outputs": [],
   "source": [
    "dif = x2 - x1\n",
    "e2 = sqrt((dif.T*dif)[0,0])\n",
    "e2"
   ]
  },
  {
   "cell_type": "code",
   "execution_count": null,
   "metadata": {},
   "outputs": [],
   "source": [
    "x3 = divide(b, divisores) - divide(A*x2, divisores)\n",
    "x3"
   ]
  },
  {
   "cell_type": "code",
   "execution_count": null,
   "metadata": {},
   "outputs": [],
   "source": [
    "dif = x3 - x2\n",
    "e3 = sqrt((dif.T*dif)[0,0])\n",
    "e3"
   ]
  },
  {
   "cell_type": "markdown",
   "metadata": {},
   "source": [
    "Este valor ya es menor que $0.1$, por lo que terminaremos el ejemplo aqui..."
   ]
  },
  {
   "cell_type": "markdown",
   "metadata": {},
   "source": [
    "## Problemas"
   ]
  },
  {
   "cell_type": "markdown",
   "metadata": {},
   "source": [
    "1. Implemente la función que calcule el método de Jacobi, utilizando las partes necesarias de la explicación anterior, considere el siguiente codigo como un inicio:\n",
    "```python\n",
    "def jacobi(A, b, error):\n",
    "    from numpy import matrix, zeros, copy, fill_diagonal, divide, sqrt\n",
    "    xs = []\n",
    "    # Inicialize valores a utilizar y arreglos a llenar, como el anterior\n",
    "    while True:\n",
    "        # Escribe tu codigo aqui\n",
    "    \n",
    "        if sqrt(xs[-1].T*xs[-1] - xs[-2].T*xs[-2]) < error:\n",
    "            return xs[-1]\n",
    "```\n",
    "2. Implemente la solución al ejercicio 3.52e del libro de texto de la clase (Métodos numéricos aplicados a la ingeniería, Anotnio Nieves, et al, pp310)\n",
    "3. Tome el tiempo de este método y los de la práctica anterior resolviendo este ejemplo, y reporte cual es el método mas rapido."
   ]
  }
 ],
 "metadata": {
  "kernelspec": {
   "display_name": "Python 3",
   "language": "python",
   "name": "python3"
  },
  "language_info": {
   "codemirror_mode": {
    "name": "ipython",
    "version": 3
   },
   "file_extension": ".py",
   "mimetype": "text/x-python",
   "name": "python",
   "nbconvert_exporter": "python",
   "pygments_lexer": "ipython3",
   "version": "3.6.3"
  }
 },
 "nbformat": 4,
 "nbformat_minor": 1
}
