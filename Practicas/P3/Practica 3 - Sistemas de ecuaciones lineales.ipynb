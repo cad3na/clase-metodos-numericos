{
 "cells": [
  {
   "cell_type": "markdown",
   "metadata": {},
   "source": [
    "# Sistemas de ecuaciones lineales"
   ]
  },
  {
   "cell_type": "markdown",
   "metadata": {},
   "source": [
    "...pero antes\n",
    "------------\n"
   ]
  },
  {
   "cell_type": "markdown",
   "metadata": {},
   "source": [
    "Antes de empezar con el tema de la práctica de hoy, quiero hacer notar un detalle que solo he hecho notar teoricamente, pero del cual no he ofrecido evidencia empirica, empecemos nombrando algunos métodos numéricos que podemos utilizar, por ejemplo, para obtener las raices de un polinomio, podemos utilizar la función ```roots```:"
   ]
  },
  {
   "cell_type": "markdown",
   "metadata": {},
   "source": [
    "Antes que nada, definimos el polinomio del cual queremos obtener las raices reales:"
   ]
  },
  {
   "cell_type": "code",
   "execution_count": null,
   "metadata": {
    "collapsed": true
   },
   "outputs": [],
   "source": [
    "f = lambda x: x**2 - 2*x + 1"
   ]
  },
  {
   "cell_type": "markdown",
   "metadata": {},
   "source": [
    "e importamos la función ```roots``` de la libreria ```numpy```:"
   ]
  },
  {
   "cell_type": "code",
   "execution_count": null,
   "metadata": {
    "collapsed": true
   },
   "outputs": [],
   "source": [
    "from numpy import roots"
   ]
  },
  {
   "cell_type": "markdown",
   "metadata": {},
   "source": [
    "Si no estamos seguros de como utilizar la función, podemos obtener la documentación rapidamente al postponer un signo de interrogación, ?, al nombre de la función y ejecutarel código; este aparecera en una ventana en la parte inferior y se puede cerrar en cuanto hayas terminado de leerla o reducir el espacio que ocupa en tu navegador:"
   ]
  },
  {
   "cell_type": "code",
   "execution_count": null,
   "metadata": {
    "collapsed": true
   },
   "outputs": [],
   "source": [
    "roots?"
   ]
  },
  {
   "cell_type": "markdown",
   "metadata": {},
   "source": [
    "De la documentación podemos ver que la forma de utilizarla es dandole un arreglo de numeros, con los coeficientes del polinomio: "
   ]
  },
  {
   "cell_type": "code",
   "execution_count": null,
   "metadata": {
    "collapsed": true
   },
   "outputs": [],
   "source": [
    "roots([1, -2, 1])"
   ]
  },
  {
   "cell_type": "markdown",
   "metadata": {},
   "source": [
    "y de la misma manera, podemos asegurarnos de que estas raices son adecuadas, al sustituir este valor en la función y comprobar que el valor que nos devuelve es $0$:"
   ]
  },
  {
   "cell_type": "code",
   "execution_count": null,
   "metadata": {
    "collapsed": true
   },
   "outputs": [],
   "source": [
    "f(1)"
   ]
  },
  {
   "cell_type": "markdown",
   "metadata": {},
   "source": [
    "Ahora quiero hacer notar que podemos revisar cuanto tiempo le toma a la computadora hacer esta operación, al utilizar la función ```%%timeit``` al inicio de la celda de código, el motor de Jupyter correra la función $1000$ veces y nos reportará el tiempo promedio que le tomó hacer esta operación:"
   ]
  },
  {
   "cell_type": "code",
   "execution_count": null,
   "metadata": {
    "collapsed": true
   },
   "outputs": [],
   "source": [
    "%%timeit\n",
    "rs = roots([1, -2, 1])"
   ]
  },
  {
   "cell_type": "markdown",
   "metadata": {},
   "source": [
    "Sin embargo esta función no puede darnos la solución para ecuaciones no lineales, para esto podemos utilizar ```fsolve```, primero definamos una ecuación no lineal:"
   ]
  },
  {
   "cell_type": "code",
   "execution_count": null,
   "metadata": {
    "collapsed": true
   },
   "outputs": [],
   "source": [
    "from numpy import sin"
   ]
  },
  {
   "cell_type": "code",
   "execution_count": null,
   "metadata": {
    "collapsed": true
   },
   "outputs": [],
   "source": [
    "g = lambda x: sin(x) + 1"
   ]
  },
  {
   "cell_type": "markdown",
   "metadata": {},
   "source": [
    "importamos la función ```fsolve``` de la libreria de optimización de ```scipy```:"
   ]
  },
  {
   "cell_type": "code",
   "execution_count": null,
   "metadata": {
    "collapsed": true
   },
   "outputs": [],
   "source": [
    "from scipy.optimize import fsolve"
   ]
  },
  {
   "cell_type": "markdown",
   "metadata": {},
   "source": [
    "y la utilizamos dandole la función a resolver, y la aproximación o valor inicial:"
   ]
  },
  {
   "cell_type": "code",
   "execution_count": null,
   "metadata": {
    "collapsed": true
   },
   "outputs": [],
   "source": [
    "fsolve(g, 0)"
   ]
  },
  {
   "cell_type": "markdown",
   "metadata": {},
   "source": [
    "Cabe notar que a esta función podemos darle mas de una aproximación inicial y me dará el resultado de el algoritmo para cada una de las aproximaciones lineales:"
   ]
  },
  {
   "cell_type": "code",
   "execution_count": null,
   "metadata": {
    "collapsed": true
   },
   "outputs": [],
   "source": [
    "fsolve(g, [0, 5, 10, 15])"
   ]
  },
  {
   "cell_type": "markdown",
   "metadata": {},
   "source": [
    "Este metodo tambien funcionará para ecuaciones polinómicas:"
   ]
  },
  {
   "cell_type": "code",
   "execution_count": null,
   "metadata": {
    "collapsed": true
   },
   "outputs": [],
   "source": [
    "fsolve(f, 0)"
   ]
  },
  {
   "cell_type": "markdown",
   "metadata": {},
   "source": [
    "Sin embargo va a ser considerablemente mas lento que las funciones dedicadas para ello:"
   ]
  },
  {
   "cell_type": "code",
   "execution_count": null,
   "metadata": {
    "collapsed": true
   },
   "outputs": [],
   "source": [
    "%%timeit\n",
    "rs = fsolve(f, 0)"
   ]
  },
  {
   "cell_type": "markdown",
   "metadata": {},
   "source": [
    "La función ```roots```, utiliza un algoritmo diferente basado en el binomio de Newton, por lo que solo sirve para las ecuación polinomiales, y la función ```fsolve``` utiliza métodos numéricos parecidos a los que hemos estado estudiando, pero de una sofisticación mayor, por lo que la moraleja de esta historia es:\n",
    "\n",
    ">Las funciones programadas en las librerías van a ser mas rápidas siempre, pero hay que saber cuando utilizar cada una y cuando pueden fallar."
   ]
  },
  {
   "cell_type": "markdown",
   "metadata": {},
   "source": [
    "Matrices\n",
    "-------"
   ]
  },
  {
   "cell_type": "markdown",
   "metadata": {},
   "source": [
    "Dentro de la libreria de calculo numérico ```numpy```, existe una definición que utilizaremos para utilizar matrices como elementos de nuestro ambiente de programación, primero tenemos que importar la definición de ```matrix```:"
   ]
  },
  {
   "cell_type": "code",
   "execution_count": null,
   "metadata": {
    "collapsed": true
   },
   "outputs": [],
   "source": [
    "from numpy import matrix"
   ]
  },
  {
   "cell_type": "markdown",
   "metadata": {},
   "source": [
    "para utilizarla, tengo que darle una lista que contenga una lista por cada fila de la matriz a definir, empecemos definiendo la matriz para el siguiente sistema de ecuaciones lineales:\n",
    "\n",
    "$$\n",
    "\\begin{align}\n",
    "x_1 + 4x_2 + 10x_3 &= 5 \\\\\n",
    "2x_1 + 3x_2 + 5x_3 &= 2 \\\\\n",
    "x_1 + 5x_2 + 2x_3 &= 10\n",
    "\\end{align}\n",
    "$$\n",
    "\n",
    "para el cual, podemos definir $A$ y $b$, de tal manera que:\n",
    "\n",
    "$$\n",
    "Ax = b\n",
    "$$\n",
    "\n",
    "en donde:\n",
    "\n",
    "$$\n",
    "x=\n",
    "\\begin{pmatrix}\n",
    "x_1 \\\\ x_2 \\\\ x_3\n",
    "\\end{pmatrix} \\quad\n",
    "A=\n",
    "\\begin{pmatrix}\n",
    "1 & 4 & 10 \\\\\n",
    "2 & 3 & 5 \\\\\n",
    "1 & 5 & 2\n",
    "\\end{pmatrix} \\quad\n",
    "b = \n",
    "\\begin{pmatrix}\n",
    "5 \\\\ 2 \\\\ 10\n",
    "\\end{pmatrix}\n",
    "$$"
   ]
  },
  {
   "cell_type": "code",
   "execution_count": null,
   "metadata": {
    "collapsed": true
   },
   "outputs": [],
   "source": [
    "A = matrix([[1, 4, 10],\n",
    "            [2, 3, 5],\n",
    "            [1, 5, 2]])\n",
    "\n",
    "b = matrix([[5],\n",
    "            [2],\n",
    "            [10]])"
   ]
  },
  {
   "cell_type": "markdown",
   "metadata": {},
   "source": [
    "Por lo que la solución mas simple, en terminos de código, es calcular la matriz inversa y multiplicarla por el vector $b$"
   ]
  },
  {
   "cell_type": "code",
   "execution_count": null,
   "metadata": {
    "collapsed": true
   },
   "outputs": [],
   "source": [
    "A.I"
   ]
  },
  {
   "cell_type": "code",
   "execution_count": null,
   "metadata": {
    "collapsed": true
   },
   "outputs": [],
   "source": [
    "x = A.I*b\n",
    "x"
   ]
  },
  {
   "cell_type": "markdown",
   "metadata": {},
   "source": [
    "Sin embargo, ya que hablamos de la rapidez de los métodos numéricos, chequemos la velocidad de esta solución:"
   ]
  },
  {
   "cell_type": "code",
   "execution_count": null,
   "metadata": {
    "collapsed": true
   },
   "outputs": [],
   "source": [
    "%%timeit\n",
    "x = A.I*b"
   ]
  },
  {
   "cell_type": "markdown",
   "metadata": {},
   "source": [
    "En este caso, tenemos un método alternativo el cual utiliza algoritmos iterativos para el cálculo de esta solución; primero tenemos que importar la función ```solve``` de la librería de algebra lineal de ```numpy```:"
   ]
  },
  {
   "cell_type": "code",
   "execution_count": null,
   "metadata": {
    "collapsed": true
   },
   "outputs": [],
   "source": [
    "from numpy.linalg import solve"
   ]
  },
  {
   "cell_type": "markdown",
   "metadata": {},
   "source": [
    "y se utiliza dandole la matriz $A$ y el vector $b$:"
   ]
  },
  {
   "cell_type": "code",
   "execution_count": null,
   "metadata": {
    "collapsed": true
   },
   "outputs": [],
   "source": [
    "solve(A, b)"
   ]
  },
  {
   "cell_type": "markdown",
   "metadata": {},
   "source": [
    "al revisar el tiempo que tomará esta solución, podemos ver una mejoria significativa:"
   ]
  },
  {
   "cell_type": "code",
   "execution_count": null,
   "metadata": {
    "collapsed": true
   },
   "outputs": [],
   "source": [
    "%%timeit\n",
    "xs = solve(A, b)"
   ]
  },
  {
   "cell_type": "markdown",
   "metadata": {},
   "source": [
    "Por ultimo, veamos el método de Cramer, podemos implementarlo facilmente, importando la función para calcular el determinante de una matriz:"
   ]
  },
  {
   "cell_type": "code",
   "execution_count": null,
   "metadata": {
    "collapsed": true
   },
   "outputs": [],
   "source": [
    "from numpy.linalg import det"
   ]
  },
  {
   "cell_type": "code",
   "execution_count": null,
   "metadata": {
    "collapsed": true
   },
   "outputs": [],
   "source": [
    "det(A)"
   ]
  },
  {
   "cell_type": "markdown",
   "metadata": {},
   "source": [
    "de aqui sabemos que el determinante general tiene un valor no nulo, tambien necesitaremos sustituir el valor del vector $b$ en columnas especificas de la matriz $A$, haremos esto obteniendo la columna especifica y apilandolas horizontalmente, de ahi el nombre de la función que necesitamos ```hstack``` (horizontal stack):"
   ]
  },
  {
   "cell_type": "code",
   "execution_count": null,
   "metadata": {
    "collapsed": true
   },
   "outputs": [],
   "source": [
    "from numpy import hstack"
   ]
  },
  {
   "cell_type": "markdown",
   "metadata": {},
   "source": [
    "La primer matriz a obtener es una en la cual la primer columna sea $b$:"
   ]
  },
  {
   "cell_type": "code",
   "execution_count": null,
   "metadata": {
    "collapsed": true
   },
   "outputs": [],
   "source": [
    "A1 = hstack((b, A[:,1], A[:,2]))\n",
    "A1"
   ]
  },
  {
   "cell_type": "markdown",
   "metadata": {},
   "source": [
    "la segunda en donde la segunda columna sea $b$:"
   ]
  },
  {
   "cell_type": "code",
   "execution_count": null,
   "metadata": {
    "collapsed": true
   },
   "outputs": [],
   "source": [
    "A2 = hstack((A[:,0], b, A[:,2]))\n",
    "A2"
   ]
  },
  {
   "cell_type": "markdown",
   "metadata": {},
   "source": [
    "y asi:"
   ]
  },
  {
   "cell_type": "code",
   "execution_count": null,
   "metadata": {
    "collapsed": true
   },
   "outputs": [],
   "source": [
    "A3 = hstack((A[:,0], A[:,1], b))\n",
    "A3"
   ]
  },
  {
   "cell_type": "markdown",
   "metadata": {},
   "source": [
    "con lo que solo tenemos que calcular el determinante de cada una de estas matrices entre el determinante general:"
   ]
  },
  {
   "cell_type": "code",
   "execution_count": null,
   "metadata": {
    "collapsed": true
   },
   "outputs": [],
   "source": [
    "%%timeit\n",
    "x1 = det(A1)/det(A)\n",
    "x2 = det(A2)/det(A)\n",
    "x3 = det(A3)/det(A)"
   ]
  },
  {
   "cell_type": "code",
   "execution_count": null,
   "metadata": {
    "collapsed": true
   },
   "outputs": [],
   "source": [
    "x1, x2, x3"
   ]
  },
  {
   "cell_type": "code",
   "execution_count": null,
   "metadata": {
    "collapsed": true
   },
   "outputs": [],
   "source": [
    "det([[1,2,1], [4,5,10], [8, -1, 2]])"
   ]
  },
  {
   "cell_type": "markdown",
   "metadata": {},
   "source": [
    "y como puedes ver, obtenemos los mismos valores que en los otros dos métodos:"
   ]
  },
  {
   "cell_type": "markdown",
   "metadata": {},
   "source": [
    "Problemas\n",
    "====="
   ]
  },
  {
   "cell_type": "markdown",
   "metadata": {},
   "source": [
    "1. Implementa una función, que dadas la matrix $A$ y el vector $b$, obtenga la solución de un sistema de ecuaciones lineal (utiliza el método de Cramer).\n",
    "2. Obten la solución de el siguiente sistema de ecuaciones lineal:\n",
    "$$\n",
    "\\begin{align}\n",
    "x_1 + 2x_2 + 1x_3 &= 2 \\\\\n",
    "4x_1 + 5x_2 + 10x_3 &= -1 \\\\\n",
    "8x_1 - x_2 + 2x_3 &= 10\n",
    "\\end{align}\n",
    "$$\n",
    "3. La solución obtenida con este método, ¿Es más rápida que el método de la inversa? ¿Es más rápida que la función ```solve```? Implementa el código para checar estos datos.\n",
    "4. (Opcional) ¿Que problemas puede tener el método de Cramer? ¿Que código es necesario agregar para checar este problema?"
   ]
  }
 ],
 "metadata": {
  "kernelspec": {
   "display_name": "Python 3",
   "language": "python",
   "name": "python3"
  },
  "language_info": {
   "codemirror_mode": {
    "name": "ipython",
    "version": 3
   },
   "file_extension": ".py",
   "mimetype": "text/x-python",
   "name": "python",
   "nbconvert_exporter": "python",
   "pygments_lexer": "ipython3",
   "version": "3.6.3"
  }
 },
 "nbformat": 4,
 "nbformat_minor": 1
}
