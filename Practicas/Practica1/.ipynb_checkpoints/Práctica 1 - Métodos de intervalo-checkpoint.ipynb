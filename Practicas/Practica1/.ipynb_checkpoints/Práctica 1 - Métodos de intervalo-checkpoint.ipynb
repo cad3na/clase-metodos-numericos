{
 "metadata": {
  "name": ""
 },
 "nbformat": 3,
 "nbformat_minor": 0,
 "worksheets": [
  {
   "cells": [
    {
     "cell_type": "heading",
     "level": 1,
     "metadata": {},
     "source": [
      "M\u00e9todos de intervalo"
     ]
    },
    {
     "cell_type": "heading",
     "level": 2,
     "metadata": {},
     "source": [
      "Introducci\u00f3n a IPython"
     ]
    },
    {
     "cell_type": "heading",
     "level": 3,
     "metadata": {},
     "source": [
      "Expresiones aritmeticas y algebraicas"
     ]
    },
    {
     "cell_type": "markdown",
     "metadata": {},
     "source": [
      "Empezaremos esta pr\u00e1ctica con algo de conocimientos previos de programaci\u00f3n. Se que muchos de ustedes no han tenido la oportunidad de utilizar Python como lenguaje de programaci\u00f3n y mucho menos IPython como ambiente de desarrollo para computo cientifico, asi que el primer objetivo de esta pr\u00e1ctica ser\u00e1 acostumbrarnos a la sintaxis del lenguaje y a las funciones que hacen especial a IPython.\n",
      "\n",
      "Primero tratemos de evaluar una expresi\u00f3n aritmetica. Para correr el c\u00f3digo en la siguiente celda, tan solo tienes que hacer clic en cualquier punto de ella y presionar las teclas Shift + Return."
     ]
    },
    {
     "cell_type": "code",
     "collapsed": false,
     "input": [
      "2 + 2"
     ],
     "language": "python",
     "metadata": {},
     "outputs": []
    },
    {
     "cell_type": "markdown",
     "metadata": {},
     "source": [
      "En la linea de arriba es facil ver que cualquier calculo aritmetico que hagamos, simplemente lo podemos escribir en una linea de c\u00f3digo y IPython nos dar\u00e1 la respuesta."
     ]
    },
    {
     "cell_type": "code",
     "collapsed": false,
     "input": [
      "sin(pi)"
     ],
     "language": "python",
     "metadata": {},
     "outputs": []
    },
    {
     "cell_type": "markdown",
     "metadata": {},
     "source": [
      "La linea anterior nos permite ver que si iniciamos correctamente nuestro ambiente de desarrollo:\n",
      "\n",
      "    ipython notebook --pylab inline\n",
      "\n",
      "las funciones trigonometricas, asi como las constantes importantes para matem\u00e1ticas, estar\u00e1n cargadas tambien.\n",
      "\n",
      "Otra manera de obtener estas funciones, es mandarlas llamar con el comando import (asi es como lo hariamos en un script normal de Python)."
     ]
    },
    {
     "cell_type": "code",
     "collapsed": false,
     "input": [
      "from math import sin, pi\n",
      "sin(pi)"
     ],
     "language": "python",
     "metadata": {},
     "outputs": []
    },
    {
     "cell_type": "heading",
     "level": 3,
     "metadata": {},
     "source": [
      "Listas"
     ]
    },
    {
     "cell_type": "markdown",
     "metadata": {},
     "source": [
      "Las listas son una manera de guardar varios datos en un mismo arreglo. Podemos tener por ejemplo:"
     ]
    },
    {
     "cell_type": "code",
     "collapsed": false,
     "input": [
      "A = [2,4,8,10]"
     ],
     "language": "python",
     "metadata": {},
     "outputs": []
    },
    {
     "cell_type": "markdown",
     "metadata": {},
     "source": [
      "Pero si intentamos multiplicar estos datos por un numero, no tendr\u00e1 el comportamiento esperado."
     ]
    },
    {
     "cell_type": "code",
     "collapsed": false,
     "input": [
      "A*2"
     ],
     "language": "python",
     "metadata": {},
     "outputs": []
    },
    {
     "cell_type": "markdown",
     "metadata": {},
     "source": [
      "Podemos definir funciones propias de la siguiente manera:"
     ]
    },
    {
     "cell_type": "code",
     "collapsed": false,
     "input": [
      "f = lambda x: x**2 + 1"
     ],
     "language": "python",
     "metadata": {},
     "outputs": []
    },
    {
     "cell_type": "markdown",
     "metadata": {},
     "source": [
      "Esta linea de codigo es equivalente a definir una funci\u00f3n matem\u00e1tica de la siguiente manera:\n",
      "\n",
      "$$f(x) = x^2 + 1$$\n",
      "\n",
      "Por lo que si la evaluamos con $x = 2$, obviamente obtendremos como resultado $5$."
     ]
    },
    {
     "cell_type": "code",
     "collapsed": false,
     "input": [
      "f(2)"
     ],
     "language": "python",
     "metadata": {},
     "outputs": []
    },
    {
     "cell_type": "markdown",
     "metadata": {},
     "source": [
      "Esta notaci\u00f3n que introducimos es muy util para funciones matem\u00e1ticas, pero esto nos obliga a pensar en las definiciones de una manera funcional, lo cual no siempre es la soluci\u00f3n (sobre todo en un lenguaje con un paradigma de programaci\u00f3n orientado a objetos).\n",
      "\n",
      "Esta funci\u00f3n tambien puede ser escrita de la siguiente manera:"
     ]
    },
    {
     "cell_type": "code",
     "collapsed": false,
     "input": [
      "def g(x):\n",
      "    return x**2 + 1"
     ],
     "language": "python",
     "metadata": {},
     "outputs": []
    },
    {
     "cell_type": "markdown",
     "metadata": {},
     "source": [
      "Con los mismos resultados:"
     ]
    },
    {
     "cell_type": "code",
     "collapsed": false,
     "input": [
      "g(2)"
     ],
     "language": "python",
     "metadata": {},
     "outputs": []
    },
    {
     "cell_type": "heading",
     "level": 2,
     "metadata": {},
     "source": [
      "Ciclos de control"
     ]
    },
    {
     "cell_type": "markdown",
     "metadata": {},
     "source": [
      "Cuando queremos ejecutar c\u00f3digo varias veces tenemos varias opciones, vamos a explorar rapidamente el ciclo for.\n",
      "\n",
      "    for paso in pasos:\n",
      "        ...\n",
      "        codigo_a_ejecutar(paso)\n",
      "        ...\n",
      "\n",
      "En este caso el codigo se ejecutar\u00e1 tantas veces sean necesarias para usar todos los elementos que hay en pasos.\n",
      "\n",
      "Por ejemplo, pordemos ejecutar la multiplicacion por 2 en cada uno de los datos:"
     ]
    },
    {
     "cell_type": "code",
     "collapsed": false,
     "input": [
      "for dato in A:\n",
      "    print dato*2"
     ],
     "language": "python",
     "metadata": {},
     "outputs": []
    },
    {
     "cell_type": "markdown",
     "metadata": {},
     "source": [
      "\u00f3 agregarlo en una lista nueva:"
     ]
    },
    {
     "cell_type": "code",
     "collapsed": false,
     "input": [
      "B = []\n",
      "for dato in A:\n",
      "    B.append(dato*2)\n",
      "    \n",
      "B"
     ],
     "language": "python",
     "metadata": {},
     "outputs": []
    },
    {
     "cell_type": "markdown",
     "metadata": {},
     "source": [
      "y aun muchas cosas mas, pero por ahora es momento de empezar con la pr\u00e1ctica."
     ]
    },
    {
     "cell_type": "heading",
     "level": 2,
     "metadata": {},
     "source": [
      "M\u00e9todo de bisecci\u00f3n"
     ]
    },
    {
     "cell_type": "markdown",
     "metadata": {},
     "source": [
      "Para obtener una raiz real de un polinomio $f(x) = x^3 + 2 x^2 + 10 x - 20$ por el metodo de bisecci\u00f3n, tenemos que primero definir dos puntos, uno que evaluado en el polinomio nos de positivo, y otro que nos de negativo. Propondremos $x_1 = 1$ y $x_2 = 2$, y los evaluaremos para asegurarnos de que cumplan lo que acabamos de pedir."
     ]
    },
    {
     "cell_type": "code",
     "collapsed": false,
     "input": [
      "f = lambda x: x**3 + 2*x**2 + 10*x - 20"
     ],
     "language": "python",
     "metadata": {},
     "outputs": []
    },
    {
     "cell_type": "code",
     "collapsed": false,
     "input": [
      "f(1.0)"
     ],
     "language": "python",
     "metadata": {},
     "outputs": []
    },
    {
     "cell_type": "code",
     "collapsed": false,
     "input": [
      "f(2.0)"
     ],
     "language": "python",
     "metadata": {},
     "outputs": []
    },
    {
     "cell_type": "markdown",
     "metadata": {},
     "source": [
      "Una vez que tenemos dos puntos de los que sabemos que definen el intervalo donde se encuetra una raiz, podemos empezar a iterar para descubrir el punto medio.\n",
      "\n",
      "$$x_M = \\frac{x_1 + x_2}{2}$$\n",
      "\n",
      "Si hacemos esto ingenuamente y lo evaluamos en la funci\u00f3n, podremos iterar manualmente:"
     ]
    },
    {
     "cell_type": "code",
     "collapsed": false,
     "input": [
      "x_1, x_2 = 1.0, 2.0\n",
      "xm1 = (x_1 + x_2)/2.0\n",
      "f(xm1)"
     ],
     "language": "python",
     "metadata": {},
     "outputs": []
    },
    {
     "cell_type": "markdown",
     "metadata": {},
     "source": [
      "Y de aqui podemos notar que el resultado que nos dio esto es positivo, es decir que la raiz tiene que estar entre $x_1$ y $x_M$. Por lo que para nuestra siguiente iteraci\u00f3n usaremos el nuevo intervalo $x_1 = 1$ y $x_2 = 2.875$, es decir que ahora asignaremos el valor de $x_M$ a $x_2$."
     ]
    },
    {
     "cell_type": "code",
     "collapsed": false,
     "input": [
      "x_1, x_2 = x_1, xm1\n",
      "xm2 = (x_1 + x_2)/2.0\n",
      "f(xm2)"
     ],
     "language": "python",
     "metadata": {},
     "outputs": []
    },
    {
     "cell_type": "markdown",
     "metadata": {},
     "source": [
      "Y podriamos seguir haciendo esto hasta que tengamos la exactitud que queremos, pero esa no seria una manera muy inteligente de hacerlo (tenemos una maquina a la que le gusta hacer tareas repetitivas y no la aprovechamos?).\n",
      "\n",
      "En vez de eso, notemos que la formula no cambia absolutamente en nada, por lo que la podemos hacer una funcion y olvidarnos de ella."
     ]
    },
    {
     "cell_type": "code",
     "collapsed": false,
     "input": [
      "def biseccion(x1, x2):\n",
      "    return (x1 + x2)/2.0"
     ],
     "language": "python",
     "metadata": {},
     "outputs": []
    },
    {
     "cell_type": "markdown",
     "metadata": {},
     "source": [
      "Si volvemos a ejecutar el codigo que teniamos, sustituyendo esta funci\u00f3n, obtendremos exactamente el mismo resultado:"
     ]
    },
    {
     "cell_type": "code",
     "collapsed": false,
     "input": [
      "x_1, x_2 = x_1, xm1\n",
      "xm2 = biseccion(x_1, x_2)\n",
      "f(xm2)"
     ],
     "language": "python",
     "metadata": {},
     "outputs": []
    },
    {
     "cell_type": "markdown",
     "metadata": {},
     "source": [
      "Y ahora lo que tenemos que hacer es poner una condicion para que $x_M$ se intercambie con $x_1$ \u00f3 $x_2$ dependiendo del signo."
     ]
    },
    {
     "cell_type": "code",
     "collapsed": false,
     "input": [
      "x_1, x_2 = 1.0, 2.0\n",
      "xm1 = biseccion(x_1, x_2)\n",
      "f(xm1)"
     ],
     "language": "python",
     "metadata": {},
     "outputs": []
    },
    {
     "cell_type": "code",
     "collapsed": false,
     "input": [
      "if x_2*xm1 > 0:\n",
      "    x_2 = xm1\n",
      "else:\n",
      "    x_1 = xm1\n",
      "    \n",
      "xm2 = biseccion(x_1, x_2)\n",
      "f(xm2)"
     ],
     "language": "python",
     "metadata": {},
     "outputs": []
    },
    {
     "cell_type": "code",
     "collapsed": false,
     "input": [
      "if x_2*xm2 > 0:\n",
      "    x_2 = xm2\n",
      "else:\n",
      "    x_1 = xm2\n",
      "    \n",
      "xm3 = biseccion(x_1, x_2)\n",
      "f(xm3)"
     ],
     "language": "python",
     "metadata": {},
     "outputs": []
    },
    {
     "cell_type": "markdown",
     "metadata": {},
     "source": [
      "Si, yo se que parece raro, pero si lo revisas con calma te daras cuenta que funciona.\n",
      "\n",
      "Ya casi llegamos, tan solo tenemos que ir guardando cada una de las aproximaciones en un arreglo, y calcularemos el numero de aproximaciones necesarias para llegar a la precisi\u00f3n requerida. Tomemos en cuenta $\\varepsilon = 0.001$. La formula para el numero de aproximaciones necesarias es:\n",
      "\n",
      "$$n = \\frac{\\ln{a} - \\ln{\\varepsilon}}{\\ln{2}}$$\n",
      "\n",
      "donde $a$ es el tama\u00f1o del intervalo original."
     ]
    },
    {
     "cell_type": "code",
     "collapsed": false,
     "input": [
      "n = (log(1) - log(0.001))/(log(2))\n",
      "n"
     ],
     "language": "python",
     "metadata": {},
     "outputs": []
    },
    {
     "cell_type": "markdown",
     "metadata": {},
     "source": [
      "Es decir, $n = 10$."
     ]
    },
    {
     "cell_type": "code",
     "collapsed": false,
     "input": [
      "def metodo_biseccion(funcion, x1, x2, n):\n",
      "    xs = []\n",
      "    for i in range(n):\n",
      "        xs.append(biseccion(x1, x2))\n",
      "        if funcion(x2)*funcion(xs[-1]) > 0:\n",
      "            x2 = xs[-1]\n",
      "        else:\n",
      "            x1 = xs[-1]\n",
      "    return xs[-1]"
     ],
     "language": "python",
     "metadata": {},
     "outputs": []
    },
    {
     "cell_type": "code",
     "collapsed": false,
     "input": [
      "metodo_biseccion(f, 1.0, 2.0, 10)"
     ],
     "language": "python",
     "metadata": {},
     "outputs": []
    },
    {
     "cell_type": "markdown",
     "metadata": {},
     "source": [
      "Y asi obtenemos la aproximaci\u00f3n de nuestro ejemplo."
     ]
    },
    {
     "cell_type": "heading",
     "level": 3,
     "metadata": {},
     "source": [
      "Ejercicio"
     ]
    },
    {
     "cell_type": "markdown",
     "metadata": {},
     "source": [
      "1. Calcule por el metodo de bisecci\u00f3n la raiz real del siguiente polinomio (se espera un error no mayor a $0.001$) $f(x) = x^5 + 4 x^4 + 10 x^3 + x^2 + 20 x - 10$.\n",
      "2. Modifique el codigo para que en lugar de aceptar el numero de iteraciones ($n$), acepte el error maximo ($\\varepsilon$).\n",
      "3. Implemente el codigo para el metodo de posici\u00f3n falsa."
     ]
    }
   ],
   "metadata": {}
  }
 ]
}