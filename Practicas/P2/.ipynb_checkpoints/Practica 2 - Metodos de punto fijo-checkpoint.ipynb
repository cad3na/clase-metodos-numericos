{
 "cells": [
  {
   "cell_type": "markdown",
   "metadata": {},
   "source": [
    "# Métodos de punto fijo I"
   ]
  },
  {
   "cell_type": "markdown",
   "metadata": {},
   "source": [
    "En esta ocasión empezaremos a implementar un método para obtener una raiz real de una ecuación no lineal. Este método se le conoce como punto fijo, pero la variante especificamente que implementaremos ahora es la de aproximaciones sucesivas."
   ]
  },
  {
   "cell_type": "markdown",
   "metadata": {},
   "source": [
    "## Aproximaciones sucesivas"
   ]
  },
  {
   "cell_type": "markdown",
   "metadata": {},
   "source": [
    "Tenemos un polinomio $f(x) = 2 x^2 - x - 5$ y un valor inicial $x_0 = 1$ y queremos saber cuales son sus raices reales. Lo primero que tenemos que hacer es pasarlo a la siguiente forma:\n",
    "\n",
    "$$x = g(x)$$\n",
    "\n",
    "Podemos notar que hay muchas maneras de hacer esto, como por ejemplo:\n",
    "\n",
    "* $x = 2 x^2 - 5$\n",
    "* $x = \\sqrt{\\frac{x + 5}{2}}$\n",
    "* $x = \\frac{5}{2x - 1}$\n",
    "\n",
    "Pero no todas estas formas nos proveerán de un calculo que converja hacia la solución, por lo que tenemos que analizar la convergencia de cada una, hasta que encontremos una que nos acomode.\n",
    "\n",
    "Sabemos que si el valor absoluto de la primera derivada de $g(x)$ es menor a 1, $\\left| g'(x) < 1 \\right|$, converjerá adecuadamente, por lo que esto es lo que analizaremos ahora:\n",
    "\n",
    "* $g_1(x) = 2 x^2 - 5$, entonces $g_1'(x) = 4 x$\n",
    "* $g_2(x) = \\sqrt{\\frac{x + 5}{2}}$, entonces $g_2' = \\frac{1}{2} \\frac{1}{\\sqrt{2(x + 5)}}$\n",
    "* $g_3(x) = \\frac{5}{2x - 1}$, entonces $g_3'(x) = - \\frac{10}{(2x - 1)^2}$\n",
    "\n",
    "De aqui podemos ver que $g_1'(x_0) = 4$, por lo que no converjerá a la solución. $g_2'(x_0) = \\frac{1}{2\\sqrt{12}}$ en cambio, si nos da un numero menor a 1, por lo que es indicada para hacer iteraciones."
   ]
  },
  {
   "cell_type": "code",
   "execution_count": null,
   "metadata": {
    "collapsed": true
   },
   "outputs": [],
   "source": [
    "from numpy import sqrt"
   ]
  },
  {
   "cell_type": "code",
   "execution_count": null,
   "metadata": {},
   "outputs": [],
   "source": [
    "1/(2*sqrt(12))"
   ]
  },
  {
   "cell_type": "markdown",
   "metadata": {},
   "source": [
    "Entonces ya tenemos una formula para iterar a través:\n",
    "\n",
    "$$x_1 = g(x_0)$$\n",
    "\n",
    "es decir:\n",
    "\n",
    "$$x_1 = \\sqrt{\\frac{x_0 + 5}{2}}$$"
   ]
  },
  {
   "cell_type": "code",
   "execution_count": null,
   "metadata": {},
   "outputs": [],
   "source": [
    "x_0 = 1\n",
    "g = lambda x: sqrt((x+5)/2)\n",
    "x_1 = g(x_0)\n",
    "x_1"
   ]
  },
  {
   "cell_type": "markdown",
   "metadata": {},
   "source": [
    "Y ya tenemos la primera iteración. Cuando dejaremos de iterar? Cuando el error $\\varepsilon = x_1 - x_0$ sea menor a $0.001$ (para este ejemplo)."
   ]
  },
  {
   "cell_type": "code",
   "execution_count": null,
   "metadata": {},
   "outputs": [],
   "source": [
    "abs(x_1 - x_0)"
   ]
  },
  {
   "cell_type": "markdown",
   "metadata": {},
   "source": [
    "Como podemos ver, aun falta mucho... pero podemos decirle a la computadora que lo siga haciendo sin notsotros. Primero creamos una funcion que itere la funcion g hasta que la diferencia de las ultimas iteraciones sea menor al error."
   ]
  },
  {
   "cell_type": "code",
   "execution_count": null,
   "metadata": {
    "collapsed": true
   },
   "outputs": [],
   "source": [
    "def aprox_sucesivas(g, x0, error):\n",
    "    xs = [x0]\n",
    "    while True:\n",
    "        xs.append(g(xs[-1]))\n",
    "        if abs(xs[-1] - xs[-2]) <= error:\n",
    "            return xs[-1]"
   ]
  },
  {
   "cell_type": "markdown",
   "metadata": {},
   "source": [
    "Y ahora le damos a esta funcion nuestra $g(x)$, el punto donde queremos que inicie $x_0$ y el error maximo permitido."
   ]
  },
  {
   "cell_type": "code",
   "execution_count": null,
   "metadata": {},
   "outputs": [],
   "source": [
    "r = aprox_sucesivas(g, 0, 0.001)\n",
    "r"
   ]
  },
  {
   "cell_type": "code",
   "execution_count": null,
   "metadata": {
    "collapsed": true
   },
   "outputs": [],
   "source": [
    "from numpy import sin"
   ]
  },
  {
   "cell_type": "markdown",
   "metadata": {},
   "source": [
    "Creamos una funcion en codigo, que contiene la función original, para evaluar que tan bien se aproximo la raiz."
   ]
  },
  {
   "cell_type": "code",
   "execution_count": null,
   "metadata": {
    "collapsed": true
   },
   "outputs": [],
   "source": [
    "f = lambda x: 2*x**2 - x - 5"
   ]
  },
  {
   "cell_type": "code",
   "execution_count": null,
   "metadata": {},
   "outputs": [],
   "source": [
    "f(r)"
   ]
  },
  {
   "cell_type": "markdown",
   "metadata": {},
   "source": [
    "Y como podemos ver hizo un muy buen trabajo sin nuestra supervision :)"
   ]
  },
  {
   "cell_type": "markdown",
   "metadata": {},
   "source": [
    "## Ejercicio"
   ]
  },
  {
   "cell_type": "markdown",
   "metadata": {},
   "source": [
    "1. Encuentra la segunda raiz de este polinomio.\n",
    "2. Implementa el método de la secante."
   ]
  }
 ],
 "metadata": {
  "kernelspec": {
   "display_name": "Python 3",
   "language": "python",
   "name": "python3"
  },
  "language_info": {
   "codemirror_mode": {
    "name": "ipython",
    "version": 3
   },
   "file_extension": ".py",
   "mimetype": "text/x-python",
   "name": "python",
   "nbconvert_exporter": "python",
   "pygments_lexer": "ipython3",
   "version": "3.6.2"
  }
 },
 "nbformat": 4,
 "nbformat_minor": 1
}
