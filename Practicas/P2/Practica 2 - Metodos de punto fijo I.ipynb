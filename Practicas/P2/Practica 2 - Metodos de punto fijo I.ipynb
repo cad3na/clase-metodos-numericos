{
 "metadata": {
  "name": ""
 },
 "nbformat": 3,
 "nbformat_minor": 0,
 "worksheets": [
  {
   "cells": [
    {
     "cell_type": "heading",
     "level": 1,
     "metadata": {},
     "source": [
      "M\u00e9todos de punto fijo I"
     ]
    },
    {
     "cell_type": "markdown",
     "metadata": {},
     "source": [
      "En esta ocasi\u00f3n empezaremos a implementar un m\u00e9todo para obtener una raiz real de una ecuaci\u00f3n no lineal. Este m\u00e9todo se le conoce como punto fijo, pero la variante especificamente que implementaremos ahora es la de aproximaciones sucesivas."
     ]
    },
    {
     "cell_type": "heading",
     "level": 2,
     "metadata": {},
     "source": [
      "Aproximaciones sucesivas"
     ]
    },
    {
     "cell_type": "markdown",
     "metadata": {},
     "source": [
      "Tenemos un polinomio $f(x) = 2 x^2 - x - 5$ y un valor inicial $x_0 = 1$ y queremos saber cuales son sus raices reales. Lo primero que tenemos que hacer es pasarlo a la siguiente forma:\n",
      "\n",
      "$$x = g(x)$$\n",
      "\n",
      "Podemos notar que hay muchas maneras de hacer esto, como por ejemplo:\n",
      "\n",
      "* $x = 2 x^2 - 5$\n",
      "* $x = \\sqrt{\\frac{x + 5}{2}}$\n",
      "* $x = \\frac{5}{2x - 1}$\n",
      "\n",
      "Pero no todas estas formas nos proveer\u00e1n de un calculo que converja hacia la soluci\u00f3n, por lo que tenemos que analizar la convergencia de cada una, hasta que encontremos una que nos acomode.\n",
      "\n",
      "Sabemos que si el valor absoluto de la primera derivada de $g(x)$ es menor a 1 ($\\left| g'(x) < 1 \\right|$) converjer\u00e1 adecuadamente, por lo que es lo que analizaremos ahora:\n",
      "\n",
      "* $g_1(x) = 2 x^2 - 5$, entonces $g_1'(x) = 4 x$\n",
      "* $g_2(x) = \\sqrt{\\frac{x + 5}{2}}$, entonces $g_2' = \\frac{1}{2} \\frac{1}{\\sqrt{2(x + 5)}}$\n",
      "* $g_3(x) = \\frac{5}{2x - 1}$, entonces $g_3'(x) = - \\frac{10}{(2x - 1)^2}$\n",
      "\n",
      "De aqui podemos ver que $g_1'(x_0) = 4$, por lo que no converjer\u00e1 a la soluci\u00f3n. $g_2'(x_0) = \\frac{1}{2\\sqrt{12}}$ en cambio, si nos da un numero menor a 1, por lo que es indicada para hacer iteraciones."
     ]
    },
    {
     "cell_type": "code",
     "collapsed": false,
     "input": [
      "1/(2*sqrt(12))"
     ],
     "language": "python",
     "metadata": {},
     "outputs": []
    },
    {
     "cell_type": "markdown",
     "metadata": {},
     "source": [
      "Entonces ya tenemos una formula para iterar a trav\u00e9s:\n",
      "\n",
      "$$x_1 = g(x_0)$$\n",
      "\n",
      "es decir:\n",
      "\n",
      "$$x_1 = \\sqrt{\\frac{x_0 + 5}{2}}$$"
     ]
    },
    {
     "cell_type": "code",
     "collapsed": false,
     "input": [
      "x_0 = 1\n",
      "g = lambda x: sqrt((x + 5)/2)\n",
      "x_1 = g(x_0)\n",
      "x_1"
     ],
     "language": "python",
     "metadata": {},
     "outputs": []
    },
    {
     "cell_type": "markdown",
     "metadata": {},
     "source": [
      "Y ya tenemos la primera iteraci\u00f3n. Cuando dejaremos de iterar? Cuando el error $\\varepsilon = x_1 - x_0$ sea menor a $0.001$ (para este ejemplo)."
     ]
    },
    {
     "cell_type": "code",
     "collapsed": false,
     "input": [
      "x_1 - x_0"
     ],
     "language": "python",
     "metadata": {},
     "outputs": []
    },
    {
     "cell_type": "markdown",
     "metadata": {},
     "source": [
      "Como podemos ver, aun falta mucho... pero podemos decirle a la computadora que lo siga haciendo sin notsotros. Primero creamos una funcion que itere la funcion g hasta que la diferencia de las ultimas iteraciones sea menor al error."
     ]
    },
    {
     "cell_type": "code",
     "collapsed": false,
     "input": [
      "def aprox_sucesivas(g, x0, error):\n",
      "    xs = [x0]\n",
      "    while True:\n",
      "        xs.append(g(xs[-1]))\n",
      "        if abs(xs[-1] - xs[-2]) <= error:\n",
      "            return xs[-1]"
     ],
     "language": "python",
     "metadata": {},
     "outputs": []
    },
    {
     "cell_type": "markdown",
     "metadata": {},
     "source": [
      "Y ahora le damos a esta funcion nuestra $g(x)$, el punto donde queremos que inicie $x_0$ y el error maximo permitido."
     ]
    },
    {
     "cell_type": "code",
     "collapsed": false,
     "input": [
      "r = aprox_sucesivas(g, 1, 0.001)"
     ],
     "language": "python",
     "metadata": {},
     "outputs": []
    },
    {
     "cell_type": "markdown",
     "metadata": {},
     "source": [
      "Creamos una funcion para evaluar que tan bien aproximo la raiz."
     ]
    },
    {
     "cell_type": "code",
     "collapsed": false,
     "input": [
      "f = lambda x: 2*x**2 - x - 5"
     ],
     "language": "python",
     "metadata": {},
     "outputs": []
    },
    {
     "cell_type": "code",
     "collapsed": false,
     "input": [
      "f(r)"
     ],
     "language": "python",
     "metadata": {},
     "outputs": []
    },
    {
     "cell_type": "markdown",
     "metadata": {},
     "source": [
      "Y como podemos ver hizo un muy buen trabajo sin nuestra supervision :)"
     ]
    },
    {
     "cell_type": "heading",
     "level": 2,
     "metadata": {},
     "source": [
      "Ejercicio"
     ]
    },
    {
     "cell_type": "markdown",
     "metadata": {},
     "source": [
      "1. Encuentra la segunda raiz de este polinomio.\n",
      "2. Implementa el m\u00e9todo de la secante."
     ]
    }
   ],
   "metadata": {}
  }
 ]
}